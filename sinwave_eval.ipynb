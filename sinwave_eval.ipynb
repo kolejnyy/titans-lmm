{
  "cells": [
    {
      "cell_type": "code",
      "execution_count": 1,
      "metadata": {
        "id": "UKUs43QemtJx"
      },
      "outputs": [],
      "source": [
        "import torch\n",
        "from torch.nn import LSTM\n",
        "from torch import nn, optim\n",
        "from torch.utils.data import Dataset, DataLoader\n",
        "from torch.func import functional_call\n",
        "from torch.nn.functional import normalize\n",
        "\n",
        "import numpy as np\n",
        "from numpy.lib.stride_tricks import sliding_window_view\n",
        "\n",
        "from dataset import TSDataset\n",
        "from models import LSTMModel, AttentionModel\n",
        "from train_utils import train_and_test\n",
        "from neural_memory import NeuralMemory\n",
        "from titans import MACTitanLayer, MACTitan\n",
        "\n",
        "from tqdm import tqdm\n",
        "from copy import deepcopy\n",
        "\n",
        "torch.set_grad_enabled(True)\n",
        "\n",
        "# ===========================================================================================\n",
        "\n",
        "train_data = TSDataset('sinwave', 'train', False)\n",
        "valid_data = TSDataset('sinwave', 'valid', False)\n",
        "test_data = TSDataset('sinwave', 'test', False)\n",
        "\n",
        "_train_loader = DataLoader(train_data, batch_size=4, shuffle=True)\n",
        "_valid_loader = DataLoader(valid_data, batch_size=4, shuffle=True)\n",
        "_test_loader = DataLoader(test_data, batch_size=4, shuffle=True)"
      ]
    },
    {
      "cell_type": "code",
      "execution_count": 23,
      "metadata": {
        "colab": {
          "base_uri": "https://localhost:8080/"
        },
        "id": "SDbooortro-w",
        "outputId": "e8ceee37-724d-4140-bb0b-acea19922602"
      },
      "outputs": [
        {
          "name": "stdout",
          "output_type": "stream",
          "text": [
            "Training:\n"
          ]
        },
        {
          "name": "stderr",
          "output_type": "stream",
          "text": [
            "100%|██████████| 50/50 [00:24<00:00,  2.07it/s]"
          ]
        },
        {
          "name": "stdout",
          "output_type": "stream",
          "text": [
            "\n",
            " Testing the best model:\n",
            "Test MSE: 0.015290285992835249\n",
            "\n"
          ]
        },
        {
          "name": "stderr",
          "output_type": "stream",
          "text": [
            "\n"
          ]
        },
        {
          "data": {
            "text/plain": [
              "LSTMModel(\n",
              "  (emb_layer): Linear(in_features=1, out_features=16, bias=True)\n",
              "  (relu): ReLU()\n",
              "  (lstm): LSTM(16, 16, batch_first=True)\n",
              "  (final_layer): Linear(in_features=16, out_features=1, bias=True)\n",
              ")"
            ]
          },
          "execution_count": 23,
          "metadata": {},
          "output_type": "execute_result"
        }
      ],
      "source": [
        "model = LSTMModel(1, 16, 16)\n",
        "\n",
        "optimizer = optim.Adam(model.parameters())\n",
        "\n",
        "train_and_test(model, optimizer, _train_loader, _valid_loader, _test_loader, 50)"
      ]
    },
    {
      "cell_type": "code",
      "execution_count": 24,
      "metadata": {
        "colab": {
          "base_uri": "https://localhost:8080/"
        },
        "id": "Caj53-ZYB7-j",
        "outputId": "ebfe4f8d-b941-4c91-e53d-389c898d81d6"
      },
      "outputs": [
        {
          "name": "stdout",
          "output_type": "stream",
          "text": [
            "Training:\n"
          ]
        },
        {
          "name": "stderr",
          "output_type": "stream",
          "text": [
            "100%|██████████| 50/50 [06:38<00:00,  7.97s/it]\n"
          ]
        },
        {
          "name": "stdout",
          "output_type": "stream",
          "text": [
            "\n",
            " Testing the best model:\n",
            "Test MSE: 0.03654162958264351\n",
            "\n"
          ]
        },
        {
          "data": {
            "text/plain": [
              "AttentionModel(\n",
              "  (emb_layer): Linear(in_features=1, out_features=16, bias=True)\n",
              "  (att_layers): ModuleList(\n",
              "    (0-1): 2 x TransformerEncoderLayer(\n",
              "      (self_attn): MultiheadAttention(\n",
              "        (out_proj): NonDynamicallyQuantizableLinear(in_features=16, out_features=16, bias=True)\n",
              "      )\n",
              "      (linear1): Linear(in_features=16, out_features=2048, bias=True)\n",
              "      (dropout): Dropout(p=0.1, inplace=False)\n",
              "      (linear2): Linear(in_features=2048, out_features=16, bias=True)\n",
              "      (norm1): LayerNorm((16,), eps=1e-05, elementwise_affine=True)\n",
              "      (norm2): LayerNorm((16,), eps=1e-05, elementwise_affine=True)\n",
              "      (dropout1): Dropout(p=0.1, inplace=False)\n",
              "      (dropout2): Dropout(p=0.1, inplace=False)\n",
              "      (activation): SiLU()\n",
              "    )\n",
              "  )\n",
              "  (final_layer): Linear(in_features=256, out_features=1, bias=True)\n",
              ")"
            ]
          },
          "execution_count": 24,
          "metadata": {},
          "output_type": "execute_result"
        }
      ],
      "source": [
        "model = AttentionModel(1, 16, 16)\n",
        "\n",
        "optimizer = optim.Adam(model.parameters())\n",
        "\n",
        "train_and_test(model, optimizer, _train_loader, _valid_loader, _test_loader, 50)"
      ]
    },
    {
      "cell_type": "code",
      "execution_count": 25,
      "metadata": {
        "colab": {
          "base_uri": "https://localhost:8080/"
        },
        "id": "W1mSLKL1pIHX",
        "outputId": "034a1533-b188-44b6-e771-4d97e7676beb"
      },
      "outputs": [
        {
          "name": "stdout",
          "output_type": "stream",
          "text": [
            "Training:\n"
          ]
        },
        {
          "name": "stderr",
          "output_type": "stream",
          "text": [
            "  4%|▍         | 1/25 [01:04<25:40, 64.17s/it]"
          ]
        },
        {
          "name": "stdout",
          "output_type": "stream",
          "text": [
            "Validation loss in Epoch 0: 0.0464873415018831\n"
          ]
        },
        {
          "name": "stderr",
          "output_type": "stream",
          "text": [
            "\r  8%|▊         | 2/25 [02:09<24:49, 64.75s/it]"
          ]
        },
        {
          "name": "stdout",
          "output_type": "stream",
          "text": [
            "Validation loss in Epoch 1: 0.0319312254765204\n"
          ]
        },
        {
          "name": "stderr",
          "output_type": "stream",
          "text": [
            "\r 12%|█▏        | 3/25 [03:14<23:48, 64.93s/it]"
          ]
        },
        {
          "name": "stdout",
          "output_type": "stream",
          "text": [
            "Validation loss in Epoch 2: 0.02681960021810872\n"
          ]
        },
        {
          "name": "stderr",
          "output_type": "stream",
          "text": [
            "\r 16%|█▌        | 4/25 [04:20<22:48, 65.18s/it]"
          ]
        },
        {
          "name": "stdout",
          "output_type": "stream",
          "text": [
            "Validation loss in Epoch 3: 0.02354222722351551\n"
          ]
        },
        {
          "name": "stderr",
          "output_type": "stream",
          "text": [
            "\r 20%|██        | 5/25 [05:24<21:40, 65.00s/it]"
          ]
        },
        {
          "name": "stdout",
          "output_type": "stream",
          "text": [
            "Validation loss in Epoch 4: 0.021766939333506992\n"
          ]
        },
        {
          "name": "stderr",
          "output_type": "stream",
          "text": [
            "\r 24%|██▍       | 6/25 [06:30<20:37, 65.15s/it]"
          ]
        },
        {
          "name": "stdout",
          "output_type": "stream",
          "text": [
            "Validation loss in Epoch 5: 0.021335237632904736\n"
          ]
        },
        {
          "name": "stderr",
          "output_type": "stream",
          "text": [
            "\r 28%|██▊       | 7/25 [07:34<19:30, 65.02s/it]"
          ]
        },
        {
          "name": "stdout",
          "output_type": "stream",
          "text": [
            "Validation loss in Epoch 6: 0.02023250758647919\n"
          ]
        },
        {
          "name": "stderr",
          "output_type": "stream",
          "text": [
            "\r 32%|███▏      | 8/25 [08:40<18:28, 65.18s/it]"
          ]
        },
        {
          "name": "stdout",
          "output_type": "stream",
          "text": [
            "Validation loss in Epoch 7: 0.02087954490312508\n"
          ]
        },
        {
          "name": "stderr",
          "output_type": "stream",
          "text": [
            "\r 36%|███▌      | 9/25 [09:45<17:22, 65.15s/it]"
          ]
        },
        {
          "name": "stdout",
          "output_type": "stream",
          "text": [
            "Validation loss in Epoch 8: 0.0198475859527077\n"
          ]
        },
        {
          "name": "stderr",
          "output_type": "stream",
          "text": [
            "\r 40%|████      | 10/25 [10:50<16:17, 65.13s/it]"
          ]
        },
        {
          "name": "stdout",
          "output_type": "stream",
          "text": [
            "Validation loss in Epoch 9: 0.01949222667941025\n"
          ]
        },
        {
          "name": "stderr",
          "output_type": "stream",
          "text": [
            "\r 44%|████▍     | 11/25 [11:55<15:10, 65.04s/it]"
          ]
        },
        {
          "name": "stdout",
          "output_type": "stream",
          "text": [
            "Validation loss in Epoch 10: 0.019479639349239214\n"
          ]
        },
        {
          "name": "stderr",
          "output_type": "stream",
          "text": [
            "\r 48%|████▊     | 12/25 [13:00<14:03, 64.90s/it]"
          ]
        },
        {
          "name": "stdout",
          "output_type": "stream",
          "text": [
            "Validation loss in Epoch 11: 0.019049335537212237\n"
          ]
        },
        {
          "name": "stderr",
          "output_type": "stream",
          "text": [
            "\r 52%|█████▏    | 13/25 [14:05<12:59, 64.99s/it]"
          ]
        },
        {
          "name": "stdout",
          "output_type": "stream",
          "text": [
            "Validation loss in Epoch 12: 0.018819607155663626\n"
          ]
        },
        {
          "name": "stderr",
          "output_type": "stream",
          "text": [
            "\r 56%|█████▌    | 14/25 [15:10<11:55, 65.06s/it]"
          ]
        },
        {
          "name": "stdout",
          "output_type": "stream",
          "text": [
            "Validation loss in Epoch 13: 0.019604248819606644\n"
          ]
        },
        {
          "name": "stderr",
          "output_type": "stream",
          "text": [
            "\r 60%|██████    | 15/25 [16:15<10:50, 65.03s/it]"
          ]
        },
        {
          "name": "stdout",
          "output_type": "stream",
          "text": [
            "Validation loss in Epoch 14: 0.019615619948932104\n"
          ]
        },
        {
          "name": "stderr",
          "output_type": "stream",
          "text": [
            "\r 64%|██████▍   | 16/25 [17:20<09:44, 64.91s/it]"
          ]
        },
        {
          "name": "stdout",
          "output_type": "stream",
          "text": [
            "Validation loss in Epoch 15: 0.018826325450624737\n"
          ]
        },
        {
          "name": "stderr",
          "output_type": "stream",
          "text": [
            "\r 68%|██████▊   | 17/25 [18:27<08:46, 65.81s/it]"
          ]
        },
        {
          "name": "stdout",
          "output_type": "stream",
          "text": [
            "Validation loss in Epoch 16: 0.0190133236348629\n"
          ]
        },
        {
          "name": "stderr",
          "output_type": "stream",
          "text": [
            "\r 72%|███████▏  | 18/25 [19:32<07:38, 65.54s/it]"
          ]
        },
        {
          "name": "stdout",
          "output_type": "stream",
          "text": [
            "Validation loss in Epoch 17: 0.019050435509000506\n"
          ]
        },
        {
          "name": "stderr",
          "output_type": "stream",
          "text": [
            "\r 76%|███████▌  | 19/25 [20:38<06:32, 65.43s/it]"
          ]
        },
        {
          "name": "stdout",
          "output_type": "stream",
          "text": [
            "Validation loss in Epoch 18: 0.01891714587275471\n"
          ]
        },
        {
          "name": "stderr",
          "output_type": "stream",
          "text": [
            "\r 80%|████████  | 20/25 [21:42<05:26, 65.25s/it]"
          ]
        },
        {
          "name": "stdout",
          "output_type": "stream",
          "text": [
            "Validation loss in Epoch 19: 0.018840320780873297\n"
          ]
        },
        {
          "name": "stderr",
          "output_type": "stream",
          "text": [
            "\r 84%|████████▍ | 21/25 [22:47<04:20, 65.14s/it]"
          ]
        },
        {
          "name": "stdout",
          "output_type": "stream",
          "text": [
            "Validation loss in Epoch 20: 0.018297713782106127\n"
          ]
        },
        {
          "name": "stderr",
          "output_type": "stream",
          "text": [
            "\r 88%|████████▊ | 22/25 [23:52<03:15, 65.16s/it]"
          ]
        },
        {
          "name": "stdout",
          "output_type": "stream",
          "text": [
            "Validation loss in Epoch 21: 0.018687697499990462\n"
          ]
        },
        {
          "name": "stderr",
          "output_type": "stream",
          "text": [
            "\r 92%|█████████▏| 23/25 [24:58<02:10, 65.17s/it]"
          ]
        },
        {
          "name": "stdout",
          "output_type": "stream",
          "text": [
            "Validation loss in Epoch 22: 0.01859079035265105\n"
          ]
        },
        {
          "name": "stderr",
          "output_type": "stream",
          "text": [
            "\r 96%|█████████▌| 24/25 [26:03<01:05, 65.23s/it]"
          ]
        },
        {
          "name": "stdout",
          "output_type": "stream",
          "text": [
            "Validation loss in Epoch 23: 0.019545881130865642\n"
          ]
        },
        {
          "name": "stderr",
          "output_type": "stream",
          "text": [
            "100%|██████████| 25/25 [27:08<00:00, 65.12s/it]"
          ]
        },
        {
          "name": "stdout",
          "output_type": "stream",
          "text": [
            "Validation loss in Epoch 24: 0.018531270511448383\n",
            "\n",
            " Testing the best model:\n"
          ]
        },
        {
          "name": "stderr",
          "output_type": "stream",
          "text": [
            "\n"
          ]
        },
        {
          "name": "stdout",
          "output_type": "stream",
          "text": [
            "Test MSE: 0.01826440165085452\n",
            "\n"
          ]
        },
        {
          "data": {
            "text/plain": [
              "MACTitan(\n",
              "  (emb_layer): Linear(in_features=1, out_features=16, bias=True)\n",
              "  (layers): ModuleList(\n",
              "    (0-1): 2 x MACTitanLayer(\n",
              "      (att_layer): TransformerEncoderLayer(\n",
              "        (self_attn): MultiheadAttention(\n",
              "          (out_proj): NonDynamicallyQuantizableLinear(in_features=16, out_features=16, bias=True)\n",
              "        )\n",
              "        (linear1): Linear(in_features=16, out_features=2048, bias=True)\n",
              "        (dropout): Dropout(p=0.1, inplace=False)\n",
              "        (linear2): Linear(in_features=2048, out_features=16, bias=True)\n",
              "        (norm1): LayerNorm((16,), eps=1e-05, elementwise_affine=True)\n",
              "        (norm2): LayerNorm((16,), eps=1e-05, elementwise_affine=True)\n",
              "        (dropout1): Dropout(p=0.1, inplace=False)\n",
              "        (dropout2): Dropout(p=0.1, inplace=False)\n",
              "        (activation): SiLU()\n",
              "      )\n",
              "      (Q): Linear(in_features=16, out_features=16, bias=True)\n",
              "      (nm_module): NeuralMemory(\n",
              "        (layers): ModuleList(\n",
              "          (0): Sequential(\n",
              "            (0): Linear(in_features=16, out_features=32, bias=True)\n",
              "            (1): SiLU()\n",
              "          )\n",
              "          (1): Sequential(\n",
              "            (0): Linear(in_features=32, out_features=16, bias=True)\n",
              "          )\n",
              "        )\n",
              "        (K): Linear(in_features=16, out_features=16, bias=False)\n",
              "        (V): Linear(in_features=16, out_features=16, bias=False)\n",
              "        (silu): SiLU()\n",
              "      )\n",
              "      (final_layer): Linear(in_features=576, out_features=256, bias=True)\n",
              "      (silu): SiLU()\n",
              "      (sigmoid): Sigmoid()\n",
              "    )\n",
              "  )\n",
              "  (final_layer): Linear(in_features=256, out_features=1, bias=True)\n",
              "  (silu): SiLU()\n",
              ")"
            ]
          },
          "execution_count": 25,
          "metadata": {},
          "output_type": "execute_result"
        }
      ],
      "source": [
        "model = MACTitan(\n",
        "    input_dim = 1,\n",
        "    hidden_dim = 16,\n",
        "    output_dim = 1,\n",
        "    context_window = 16,\n",
        "    pm_len = 4,\n",
        "    n_layers = 2,\n",
        "    n_layers_nmm = 2,\n",
        "    eta=0.9,\n",
        "    theta=0.01\n",
        ").cuda()\n",
        "\n",
        "optimizer = optim.Adam(model.outer_params)\n",
        "\n",
        "train_and_test(model, optimizer, _train_loader, _valid_loader, _test_loader, 25)"
      ]
    }
  ],
  "metadata": {
    "accelerator": "GPU",
    "colab": {
      "gpuType": "T4",
      "provenance": []
    },
    "kernelspec": {
      "display_name": "Python 3",
      "name": "python3"
    },
    "language_info": {
      "codemirror_mode": {
        "name": "ipython",
        "version": 3
      },
      "file_extension": ".py",
      "mimetype": "text/x-python",
      "name": "python",
      "nbconvert_exporter": "python",
      "pygments_lexer": "ipython3",
      "version": "3.13.2"
    }
  },
  "nbformat": 4,
  "nbformat_minor": 0
}
