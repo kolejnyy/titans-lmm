{
  "cells": [
    {
      "cell_type": "code",
      "execution_count": 3,
      "metadata": {
        "id": "UKUs43QemtJx",
        "outputId": "d731c0df-6ef7-4446-d825-2bb66c476418",
        "colab": {
          "base_uri": "https://localhost:8080/"
        }
      },
      "outputs": [
        {
          "output_type": "execute_result",
          "data": {
            "text/plain": [
              "<torch.autograd.grad_mode.set_grad_enabled at 0x7f1154bb2d10>"
            ]
          },
          "metadata": {},
          "execution_count": 3
        }
      ],
      "source": [
        "import torch\n",
        "from torch.nn import LSTM\n",
        "from torch import nn, optim\n",
        "from torch.utils.data import Dataset, DataLoader\n",
        "from torch.func import functional_call\n",
        "from torch.nn.functional import normalize\n",
        "\n",
        "import numpy as np\n",
        "from numpy.lib.stride_tricks import sliding_window_view\n",
        "\n",
        "from dataset import TSDataset\n",
        "from models import LSTMModel, AttentionModel, AttentionPMModel\n",
        "from train_utils import train_and_test\n",
        "from neural_memory import NeuralMemory\n",
        "from titans import MACTitanLayer, MACTitan\n",
        "\n",
        "from tqdm import tqdm\n",
        "from copy import deepcopy\n",
        "\n",
        "torch.set_grad_enabled(True)\n",
        "\n",
        "# ==========================================================================================="
      ]
    },
    {
      "cell_type": "code",
      "source": [
        "train_data = TSDataset('weather', 'train', False)\n",
        "valid_data = TSDataset('weather', 'valid', False)\n",
        "test_data = TSDataset('weather', 'test', False)\n",
        "\n",
        "_train_loader = DataLoader(train_data, batch_size=4, shuffle=True)\n",
        "_valid_loader = DataLoader(valid_data, batch_size=4, shuffle=True)\n",
        "_test_loader = DataLoader(test_data, batch_size=4, shuffle=True)"
      ],
      "metadata": {
        "id": "MYdz2VXtvWfn"
      },
      "execution_count": 5,
      "outputs": []
    },
    {
      "cell_type": "code",
      "execution_count": 4,
      "metadata": {
        "colab": {
          "base_uri": "https://localhost:8080/"
        },
        "id": "SDbooortro-w",
        "outputId": "6b48223d-9c4a-4c43-df0b-3dfb73b0e273"
      },
      "outputs": [
        {
          "output_type": "stream",
          "name": "stdout",
          "text": [
            "Training:\n"
          ]
        },
        {
          "output_type": "stream",
          "name": "stderr",
          "text": [
            "100%|██████████| 50/50 [00:37<00:00,  1.32it/s]"
          ]
        },
        {
          "output_type": "stream",
          "name": "stdout",
          "text": [
            "\n",
            " Testing the best model:\n",
            "Test MSE: 0.035601225142416204\n",
            "\n"
          ]
        },
        {
          "output_type": "stream",
          "name": "stderr",
          "text": [
            "\n",
            "/usr/local/lib/python3.11/dist-packages/torch/nn/modules/rnn.py:1124: UserWarning: RNN module weights are not part of single contiguous chunk of memory. This means they need to be compacted at every call, possibly greatly increasing memory usage. To compact weights again call flatten_parameters(). (Triggered internally at /pytorch/aten/src/ATen/native/cudnn/RNN.cpp:1412.)\n",
            "  result = _VF.lstm(\n"
          ]
        },
        {
          "output_type": "execute_result",
          "data": {
            "text/plain": [
              "LSTMModel(\n",
              "  (emb_layer): Linear(in_features=5, out_features=16, bias=True)\n",
              "  (relu): ReLU()\n",
              "  (lstm): LSTM(16, 16, batch_first=True)\n",
              "  (final_layer): Linear(in_features=16, out_features=1, bias=True)\n",
              ")"
            ]
          },
          "metadata": {},
          "execution_count": 4
        }
      ],
      "source": [
        "model = LSTMModel(5, 16, 16)\n",
        "\n",
        "optimizer = optim.Adam(model.parameters())\n",
        "\n",
        "train_and_test(model, optimizer, _train_loader, _valid_loader, _test_loader, 50)"
      ]
    },
    {
      "cell_type": "code",
      "execution_count": 5,
      "metadata": {
        "colab": {
          "base_uri": "https://localhost:8080/"
        },
        "id": "Caj53-ZYB7-j",
        "outputId": "2b76afc3-5760-4ba6-9d83-557618e0a13d"
      },
      "outputs": [
        {
          "metadata": {
            "tags": null
          },
          "name": "stdout",
          "output_type": "stream",
          "text": [
            "Training:\n"
          ]
        },
        {
          "output_type": "stream",
          "name": "stderr",
          "text": [
            "  0%|          | 0/50 [00:00<?, ?it/s]/content/models.py:64: UserWarning: The given NumPy array is not writable, and PyTorch does not support non-writable tensors. This means writing to this tensor will result in undefined behavior. You may want to copy the array to protect its data or make it writable before converting it to a tensor. This type of warning will be suppressed for the rest of this program. (Triggered internally at /pytorch/torch/csrc/utils/tensor_numpy.cpp:203.)\n",
            "  indices = torch.from_numpy(sliding_window_view(np.arange(total_len), self.seq_len))\n",
            "100%|██████████| 50/50 [09:42<00:00, 11.64s/it]\n"
          ]
        },
        {
          "output_type": "stream",
          "name": "stdout",
          "text": [
            "\n",
            " Testing the best model:\n",
            "Test MSE: 0.03525110926283033\n",
            "\n"
          ]
        },
        {
          "output_type": "execute_result",
          "data": {
            "text/plain": [
              "AttentionModel(\n",
              "  (emb_layer): Linear(in_features=5, out_features=16, bias=True)\n",
              "  (att_layers): ModuleList(\n",
              "    (0-1): 2 x TransformerEncoderLayer(\n",
              "      (self_attn): MultiheadAttention(\n",
              "        (out_proj): NonDynamicallyQuantizableLinear(in_features=16, out_features=16, bias=True)\n",
              "      )\n",
              "      (linear1): Linear(in_features=16, out_features=2048, bias=True)\n",
              "      (dropout): Dropout(p=0.1, inplace=False)\n",
              "      (linear2): Linear(in_features=2048, out_features=16, bias=True)\n",
              "      (norm1): LayerNorm((16,), eps=1e-05, elementwise_affine=True)\n",
              "      (norm2): LayerNorm((16,), eps=1e-05, elementwise_affine=True)\n",
              "      (dropout1): Dropout(p=0.1, inplace=False)\n",
              "      (dropout2): Dropout(p=0.1, inplace=False)\n",
              "      (activation): SiLU()\n",
              "    )\n",
              "  )\n",
              "  (final_layer): Linear(in_features=256, out_features=1, bias=True)\n",
              ")"
            ]
          },
          "metadata": {},
          "execution_count": 5
        }
      ],
      "source": [
        "model = AttentionModel(5, 16, 16)\n",
        "\n",
        "optimizer = optim.Adam(model.parameters())\n",
        "\n",
        "train_and_test(model, optimizer, _train_loader, _valid_loader, _test_loader, 50)"
      ]
    },
    {
      "cell_type": "code",
      "source": [
        "model = AttentionPMModel(5, 16, 16, 4)\n",
        "\n",
        "optimizer = optim.Adam(model.parameters())\n",
        "\n",
        "train_and_test(model, optimizer, _train_loader, _valid_loader, _test_loader, 50)"
      ],
      "metadata": {
        "id": "g9MM30jhxk-L",
        "outputId": "c06ff46b-bd4e-48d9-92b5-be510182fd4f",
        "colab": {
          "base_uri": "https://localhost:8080/"
        }
      },
      "execution_count": 6,
      "outputs": [
        {
          "output_type": "stream",
          "name": "stdout",
          "text": [
            "Training:\n"
          ]
        },
        {
          "output_type": "stream",
          "name": "stderr",
          "text": [
            "100%|██████████| 50/50 [11:45<00:00, 14.11s/it]\n"
          ]
        },
        {
          "output_type": "stream",
          "name": "stdout",
          "text": [
            "\n",
            " Testing the best model:\n",
            "Test MSE: 0.03569375570667417\n",
            "\n"
          ]
        },
        {
          "output_type": "execute_result",
          "data": {
            "text/plain": [
              "AttentionPMModel(\n",
              "  (emb_layer): Linear(in_features=5, out_features=16, bias=True)\n",
              "  (att_layers): ModuleList(\n",
              "    (0-1): 2 x TransformerEncoderLayer(\n",
              "      (self_attn): MultiheadAttention(\n",
              "        (out_proj): NonDynamicallyQuantizableLinear(in_features=16, out_features=16, bias=True)\n",
              "      )\n",
              "      (linear1): Linear(in_features=16, out_features=2048, bias=True)\n",
              "      (dropout): Dropout(p=0.1, inplace=False)\n",
              "      (linear2): Linear(in_features=2048, out_features=16, bias=True)\n",
              "      (norm1): LayerNorm((16,), eps=1e-05, elementwise_affine=True)\n",
              "      (norm2): LayerNorm((16,), eps=1e-05, elementwise_affine=True)\n",
              "      (dropout1): Dropout(p=0.1, inplace=False)\n",
              "      (dropout2): Dropout(p=0.1, inplace=False)\n",
              "      (activation): SiLU()\n",
              "    )\n",
              "  )\n",
              "  (final_layer): Linear(in_features=320, out_features=1, bias=True)\n",
              ")"
            ]
          },
          "metadata": {},
          "execution_count": 6
        }
      ]
    },
    {
      "cell_type": "code",
      "execution_count": 6,
      "metadata": {
        "colab": {
          "base_uri": "https://localhost:8080/"
        },
        "id": "W1mSLKL1pIHX",
        "outputId": "9bcdcf9c-691d-434a-a5c4-d60ac214348e"
      },
      "outputs": [
        {
          "output_type": "stream",
          "name": "stdout",
          "text": [
            "Training:\n"
          ]
        },
        {
          "output_type": "stream",
          "name": "stderr",
          "text": [
            "\r  0%|          | 0/10 [00:00<?, ?it/s]/content/titans.py:155: UserWarning: The given NumPy array is not writable, and PyTorch does not support non-writable tensors. This means writing to this tensor will result in undefined behavior. You may want to copy the array to protect its data or make it writable before converting it to a tensor. This type of warning will be suppressed for the rest of this program. (Triggered internally at /pytorch/torch/csrc/utils/tensor_numpy.cpp:203.)\n",
            "  stz = torch.from_numpy(x[:,:-residual].reshape(x.shape[0], -1, self.context_window, self.context_window, self.input_dim)).cuda()\n",
            " 10%|█         | 1/10 [01:35<14:18, 95.44s/it]"
          ]
        },
        {
          "output_type": "stream",
          "name": "stdout",
          "text": [
            "Validation loss in Epoch 0: 0.03467170451032488\n"
          ]
        },
        {
          "output_type": "stream",
          "name": "stderr",
          "text": [
            "\r 20%|██        | 2/10 [03:10<12:40, 95.01s/it]"
          ]
        },
        {
          "output_type": "stream",
          "name": "stdout",
          "text": [
            "Validation loss in Epoch 1: 0.03373166181539235\n"
          ]
        },
        {
          "output_type": "stream",
          "name": "stderr",
          "text": [
            "\r 30%|███       | 3/10 [04:46<11:09, 95.64s/it]"
          ]
        },
        {
          "output_type": "stream",
          "name": "stdout",
          "text": [
            "Validation loss in Epoch 2: 0.03181907081682431\n"
          ]
        },
        {
          "output_type": "stream",
          "name": "stderr",
          "text": [
            "\r 40%|████      | 4/10 [06:20<09:31, 95.17s/it]"
          ]
        },
        {
          "output_type": "stream",
          "name": "stdout",
          "text": [
            "Validation loss in Epoch 3: 0.02920794567387355\n"
          ]
        },
        {
          "output_type": "stream",
          "name": "stderr",
          "text": [
            "\r 50%|█████     | 5/10 [07:55<07:54, 94.95s/it]"
          ]
        },
        {
          "output_type": "stream",
          "name": "stdout",
          "text": [
            "Validation loss in Epoch 4: 0.02990819851034566\n"
          ]
        },
        {
          "output_type": "stream",
          "name": "stderr",
          "text": [
            "\r 60%|██████    | 6/10 [09:29<06:18, 94.72s/it]"
          ]
        },
        {
          "output_type": "stream",
          "name": "stdout",
          "text": [
            "Validation loss in Epoch 5: 0.03043873063043544\n"
          ]
        },
        {
          "output_type": "stream",
          "name": "stderr",
          "text": [
            "\r 70%|███████   | 7/10 [11:03<04:42, 94.30s/it]"
          ]
        },
        {
          "output_type": "stream",
          "name": "stdout",
          "text": [
            "Validation loss in Epoch 6: 0.032751848470223575\n"
          ]
        },
        {
          "output_type": "stream",
          "name": "stderr",
          "text": [
            "\r 80%|████████  | 8/10 [12:37<03:08, 94.23s/it]"
          ]
        },
        {
          "output_type": "stream",
          "name": "stdout",
          "text": [
            "Validation loss in Epoch 7: 0.032473287613768324\n"
          ]
        },
        {
          "output_type": "stream",
          "name": "stderr",
          "text": [
            "\r 90%|█████████ | 9/10 [14:11<01:34, 94.10s/it]"
          ]
        },
        {
          "output_type": "stream",
          "name": "stdout",
          "text": [
            "Validation loss in Epoch 8: 0.036109270429924914\n"
          ]
        },
        {
          "output_type": "stream",
          "name": "stderr",
          "text": [
            "100%|██████████| 10/10 [15:45<00:00, 94.57s/it]"
          ]
        },
        {
          "output_type": "stream",
          "name": "stdout",
          "text": [
            "Validation loss in Epoch 9: 0.03277809196396878\n",
            "\n",
            " Testing the best model:\n"
          ]
        },
        {
          "output_type": "stream",
          "name": "stderr",
          "text": [
            "\n"
          ]
        },
        {
          "output_type": "stream",
          "name": "stdout",
          "text": [
            "Test MSE: 0.03569832993181128\n",
            "\n"
          ]
        }
      ],
      "source": [
        "model = MACTitan(\n",
        "    input_dim = 5,\n",
        "    hidden_dim = 16,\n",
        "    output_dim = 1,\n",
        "    context_window = 16,\n",
        "    pm_len = 4,\n",
        "    n_layers = 2,\n",
        "    n_layers_nmm = 2,\n",
        "    eta=0.9,\n",
        "    theta=0.01\n",
        ").cuda()\n",
        "\n",
        "optimizer = optim.Adam(model.outer_params)\n",
        "\n",
        "best_model = train_and_test(model, optimizer, _train_loader, _valid_loader, _test_loader, 10, True)"
      ]
    },
    {
      "cell_type": "code",
      "source": [
        "model = MACTitan(\n",
        "    input_dim = 5,\n",
        "    hidden_dim = 16,\n",
        "    output_dim = 1,\n",
        "    context_window = 16,\n",
        "    pm_len = 4,\n",
        "    n_layers = 2,\n",
        "    n_layers_nmm = 1,\n",
        "    eta=0.9,\n",
        "    theta=0.01\n",
        ").cuda()\n",
        "\n",
        "optimizer = optim.Adam(model.outer_params)\n",
        "\n",
        "best_model = train_and_test(model, optimizer, _train_loader, _valid_loader, _test_loader, 10, True)"
      ],
      "metadata": {
        "id": "fBouurDYxO_j",
        "outputId": "2dd479ca-d362-41b8-cef6-63f5b653c8bb",
        "colab": {
          "base_uri": "https://localhost:8080/"
        }
      },
      "execution_count": 7,
      "outputs": [
        {
          "output_type": "stream",
          "name": "stdout",
          "text": [
            "Training:\n"
          ]
        },
        {
          "output_type": "stream",
          "name": "stderr",
          "text": [
            " 10%|█         | 1/10 [01:24<12:41, 84.57s/it]"
          ]
        },
        {
          "output_type": "stream",
          "name": "stdout",
          "text": [
            "Validation loss in Epoch 0: 0.031554996830068134\n"
          ]
        },
        {
          "output_type": "stream",
          "name": "stderr",
          "text": [
            "\r 20%|██        | 2/10 [02:50<11:24, 85.60s/it]"
          ]
        },
        {
          "output_type": "stream",
          "name": "stdout",
          "text": [
            "Validation loss in Epoch 1: 0.02973860088539751\n"
          ]
        },
        {
          "output_type": "stream",
          "name": "stderr",
          "text": [
            "\r 30%|███       | 3/10 [04:20<10:10, 87.28s/it]"
          ]
        },
        {
          "output_type": "stream",
          "name": "stdout",
          "text": [
            "Validation loss in Epoch 2: 0.03255043621910246\n"
          ]
        },
        {
          "output_type": "stream",
          "name": "stderr",
          "text": [
            "\r 40%|████      | 4/10 [05:45<08:38, 86.48s/it]"
          ]
        },
        {
          "output_type": "stream",
          "name": "stdout",
          "text": [
            "Validation loss in Epoch 3: 0.028653166717604588\n"
          ]
        },
        {
          "output_type": "stream",
          "name": "stderr",
          "text": [
            "\r 50%|█████     | 5/10 [07:09<07:08, 85.68s/it]"
          ]
        },
        {
          "output_type": "stream",
          "name": "stdout",
          "text": [
            "Validation loss in Epoch 4: 0.0312347532495072\n"
          ]
        },
        {
          "output_type": "stream",
          "name": "stderr",
          "text": [
            "\r 60%|██████    | 6/10 [08:34<05:41, 85.38s/it]"
          ]
        },
        {
          "output_type": "stream",
          "name": "stdout",
          "text": [
            "Validation loss in Epoch 5: 0.03278367313507356\n"
          ]
        },
        {
          "output_type": "stream",
          "name": "stderr",
          "text": [
            "\r 70%|███████   | 7/10 [09:59<04:15, 85.19s/it]"
          ]
        },
        {
          "output_type": "stream",
          "name": "stdout",
          "text": [
            "Validation loss in Epoch 6: 0.02949460878183967\n"
          ]
        },
        {
          "output_type": "stream",
          "name": "stderr",
          "text": [
            "\r 80%|████████  | 8/10 [11:24<02:50, 85.25s/it]"
          ]
        },
        {
          "output_type": "stream",
          "name": "stdout",
          "text": [
            "Validation loss in Epoch 7: 0.03408910743892193\n"
          ]
        },
        {
          "output_type": "stream",
          "name": "stderr",
          "text": [
            "\r 90%|█████████ | 9/10 [12:49<01:25, 85.22s/it]"
          ]
        },
        {
          "output_type": "stream",
          "name": "stdout",
          "text": [
            "Validation loss in Epoch 8: 0.03377002207072158\n"
          ]
        },
        {
          "output_type": "stream",
          "name": "stderr",
          "text": [
            "100%|██████████| 10/10 [14:15<00:00, 85.50s/it]"
          ]
        },
        {
          "output_type": "stream",
          "name": "stdout",
          "text": [
            "Validation loss in Epoch 9: 0.03529415703133533\n",
            "\n",
            " Testing the best model:\n"
          ]
        },
        {
          "output_type": "stream",
          "name": "stderr",
          "text": [
            "\n"
          ]
        },
        {
          "output_type": "stream",
          "name": "stdout",
          "text": [
            "Test MSE: 0.037331398498070864\n",
            "\n"
          ]
        }
      ]
    }
  ],
  "metadata": {
    "accelerator": "GPU",
    "colab": {
      "gpuType": "T4",
      "provenance": []
    },
    "kernelspec": {
      "display_name": "Python 3",
      "name": "python3"
    },
    "language_info": {
      "codemirror_mode": {
        "name": "ipython",
        "version": 3
      },
      "file_extension": ".py",
      "mimetype": "text/x-python",
      "name": "python",
      "nbconvert_exporter": "python",
      "pygments_lexer": "ipython3",
      "version": "3.13.2"
    }
  },
  "nbformat": 4,
  "nbformat_minor": 0
}